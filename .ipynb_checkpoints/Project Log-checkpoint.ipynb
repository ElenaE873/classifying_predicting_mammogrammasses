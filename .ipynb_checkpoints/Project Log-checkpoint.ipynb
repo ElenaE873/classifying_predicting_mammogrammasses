{
 "cells": [
  {
   "cell_type": "markdown",
   "metadata": {},
   "source": [
    "Use this Log of Notebooks to navigate this repository for better ease of finding every steps of the project."
   ]
  },
  {
   "cell_type": "markdown",
   "metadata": {},
   "source": [
    "#### In this notebook\n",
    "\n"
   ]
  },
  {
   "cell_type": "markdown",
   "metadata": {},
   "source": [
    "#### <a href=\"https://github.com/ElenaE873/classifying_predicting_mammogrammasses/blob/main/PreProcessing/1.1%20Project%20Background%20%26%20Introduction.ipynb\">1.1 Project Background and Introduction</a>"
   ]
  },
  {
   "cell_type": "markdown",
   "metadata": {},
   "source": [
    "What you will find: The overarching goal and introduction of the project."
   ]
  },
  {
   "cell_type": "markdown",
   "metadata": {},
   "source": [
    "\n",
    "#### <a href=\"https://github.com/ElenaE873/classifying_predicting_mammogrammasses/blob/main/PreProcessing/1.2%20Data%20Understanding.ipynb\">1.2 Data Understanding</a>\n"
   ]
  },
  {
   "cell_type": "markdown",
   "metadata": {},
   "source": [
    "What you will find: Evaluating the entire data set for respective columns, missing values, and duplicates to take actions in the cleaning steps."
   ]
  },
  {
   "cell_type": "markdown",
   "metadata": {},
   "source": [
    "#### <a href=\"https://github.com/ElenaE873/classifying_predicting_mammogrammasses/blob/main/PreProcessing/1.3%20Data%20Cleaning.ipynb\">1.3 Data Cleaning</a>"
   ]
  },
  {
   "cell_type": "markdown",
   "metadata": {},
   "source": [
    "What you will find: Data cleaning for missing (NaN) values, accounting for duplicates, and saving the final output of the preprocessing steps."
   ]
  },
  {
   "cell_type": "markdown",
   "metadata": {},
   "source": [
    "#### <a href=\"https://github.com/ElenaE873/classifying_predicting_mammogrammasses/blob/main/1.4%20Model%20Comparisons%20-%20Mammogram%20Masses.ipynb\">1.4 Model Comparisons </a>"
   ]
  },
  {
   "cell_type": "markdown",
   "metadata": {},
   "source": [
    "What you will find: Model comparisons for classification of mammogram masses and their respective accuracies."
   ]
  }
 ],
 "metadata": {
  "kernelspec": {
   "display_name": "Python 3",
   "language": "python",
   "name": "python3"
  },
  "language_info": {
   "codemirror_mode": {
    "name": "ipython",
    "version": 3
   },
   "file_extension": ".py",
   "mimetype": "text/x-python",
   "name": "python",
   "nbconvert_exporter": "python",
   "pygments_lexer": "ipython3",
   "version": "3.8.5"
  }
 },
 "nbformat": 4,
 "nbformat_minor": 4
}
